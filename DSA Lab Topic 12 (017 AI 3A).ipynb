{
 "cells": [
  {
   "cell_type": "code",
   "execution_count": 1,
   "id": "4261ba06",
   "metadata": {},
   "outputs": [],
   "source": [
    "# Topic 12: Graph Data Structure \n",
    "# Task 1: Implementing a Graph Using Adjacency List & Adjacency Matrix "
   ]
  },
  {
   "cell_type": "code",
   "execution_count": 2,
   "id": "deea10aa",
   "metadata": {},
   "outputs": [],
   "source": [
    "class Graph:\n",
    "    def __init__(self, directed=False):\n",
    "        self.directed = directed\n",
    "        self.adj_list = {}\n",
    "        self.vertices = []\n",
    "        self.adj_matrix = []\n",
    "\n",
    "    def add_vertex(self, vertex):\n",
    "        if vertex not in self.adj_list:\n",
    "            self.adj_list[vertex] = []\n",
    "            self.vertices.append(vertex)\n",
    "            # Update adjacency matrix\n",
    "            size = len(self.vertices)\n",
    "            for row in self.adj_matrix:\n",
    "                row.append(0)\n",
    "            self.adj_matrix.append([0] * size)\n",
    "\n",
    "    def add_edge(self, src, dest):\n",
    "        if src in self.adj_list and dest in self.adj_list:\n",
    "            self.adj_list[src].append(dest)\n",
    "            src_index = self.vertices.index(src)\n",
    "            dest_index = self.vertices.index(dest)\n",
    "            self.adj_matrix[src_index][dest_index] = 1\n",
    "            if not self.directed:\n",
    "                self.adj_list[dest].append(src)\n",
    "                self.adj_matrix[dest_index][src_index] = 1\n",
    "\n",
    "    def display_adj_list(self):\n",
    "        print(\"Adjacency List:\", self.adj_list)\n",
    "\n",
    "    def display_adj_matrix(self):\n",
    "        print(\"Adjacency Matrix:\")\n",
    "        print(\"  \", \" \".join(self.vertices))\n",
    "        for i, row in enumerate(self.adj_matrix):\n",
    "            print(self.vertices[i], row)"
   ]
  },
  {
   "cell_type": "code",
   "execution_count": 3,
   "id": "6d03b6e5",
   "metadata": {},
   "outputs": [],
   "source": [
    "# Task 2: Implementing Breadth-First Search (BFS) & Depth-First Search "
   ]
  },
  {
   "cell_type": "code",
   "execution_count": 4,
   "id": "83679a9b",
   "metadata": {},
   "outputs": [
    {
     "name": "stdout",
     "output_type": "stream",
     "text": [
      "BFS: [0, 1, 2, 3]\n",
      "DFS (Recursive): [0, 1, 3, 2]\n",
      "DFS (Iterative): [0, 1, 3, 2]\n"
     ]
    }
   ],
   "source": [
    "from collections import deque\n",
    "\n",
    "class Graph(Graph):  # Extending the existing Graph class\n",
    "    def bfs(self, start_vertex):\n",
    "        visited = set()\n",
    "        queue = deque([start_vertex])\n",
    "        traversal = []\n",
    "\n",
    "        while queue:\n",
    "            vertex = queue.popleft()\n",
    "            if vertex not in visited:\n",
    "                visited.add(vertex)\n",
    "                traversal.append(vertex)\n",
    "                queue.extend([v for v in self.adj_list[vertex] if v not in visited])\n",
    "\n",
    "        return traversal\n",
    "\n",
    "    def dfs_recursive(self, start_vertex, visited=None, traversal=None):\n",
    "        if visited is None:\n",
    "            visited = set()\n",
    "        if traversal is None:\n",
    "            traversal = []\n",
    "\n",
    "        visited.add(start_vertex)\n",
    "        traversal.append(start_vertex)\n",
    "\n",
    "        for neighbor in self.adj_list[start_vertex]:\n",
    "            if neighbor not in visited:\n",
    "                self.dfs_recursive(neighbor, visited, traversal)\n",
    "\n",
    "        return traversal\n",
    "\n",
    "    def dfs_iterative(self, start_vertex):\n",
    "        visited = set()\n",
    "        stack = [start_vertex]\n",
    "        traversal = []\n",
    "\n",
    "        while stack:\n",
    "            vertex = stack.pop()\n",
    "            if vertex not in visited:\n",
    "                visited.add(vertex)\n",
    "                traversal.append(vertex)\n",
    "                stack.extend([v for v in reversed(self.adj_list[vertex]) if v not in visited])\n",
    "\n",
    "        return traversal\n",
    "\n",
    "# Example usage\n",
    "g = Graph(directed=False)\n",
    "g.add_vertex(0)\n",
    "g.add_vertex(1)\n",
    "g.add_vertex(2)\n",
    "g.add_vertex(3)\n",
    "g.add_edge(0, 1)\n",
    "g.add_edge(0, 2)\n",
    "g.add_edge(1, 3)\n",
    "g.add_edge(2, 3)\n",
    "\n",
    "print(\"BFS:\", g.bfs(0))  # Output: [0, 1, 2, 3]\n",
    "print(\"DFS (Recursive):\", g.dfs_recursive(0))  # Output: [0, 1, 3, 2] or another valid DFS order\n",
    "print(\"DFS (Iterative):\", g.dfs_iterative(0))  # Output: [0, 2, 3, 1] or another valid DFS order"
   ]
  },
  {
   "cell_type": "code",
   "execution_count": 5,
   "id": "4628a884",
   "metadata": {},
   "outputs": [],
   "source": [
    "# Task 3: Implementing Dijkstra’s Algorithm for Shortest Path "
   ]
  },
  {
   "cell_type": "code",
   "execution_count": null,
   "id": "914be39b",
   "metadata": {},
   "outputs": [
    {
     "ename": "TypeError",
     "evalue": "Graph.add_edge() missing 1 required positional argument: 'dest'",
     "output_type": "error",
     "traceback": [
      "\u001b[31m---------------------------------------------------------------------------\u001b[39m",
      "\u001b[31mTypeError\u001b[39m                                 Traceback (most recent call last)",
      "\u001b[36mCell\u001b[39m\u001b[36m \u001b[39m\u001b[32mIn[7]\u001b[39m\u001b[32m, line 36\u001b[39m\n\u001b[32m     34\u001b[39m g.add_vertex(\u001b[33m\"\u001b[39m\u001b[33mC\u001b[39m\u001b[33m\"\u001b[39m)\n\u001b[32m     35\u001b[39m g.add_vertex(\u001b[33m\"\u001b[39m\u001b[33mD\u001b[39m\u001b[33m\"\u001b[39m)\n\u001b[32m---> \u001b[39m\u001b[32m36\u001b[39m \u001b[43mg\u001b[49m\u001b[43m.\u001b[49m\u001b[43madd_edge\u001b[49m\u001b[43m(\u001b[49m\u001b[33;43m\"\u001b[39;49m\u001b[33;43mA\u001b[39;49m\u001b[33;43m\"\u001b[39;49m\u001b[43m)\u001b[49m\n\u001b[32m     37\u001b[39m g.add_edge(\u001b[33m\"\u001b[39m\u001b[33mA\u001b[39m\u001b[33m\"\u001b[39m, \u001b[33m\"\u001b[39m\u001b[33mC\u001b[39m\u001b[33m\"\u001b[39m, \u001b[32m1\u001b[39m)\n\u001b[32m     38\u001b[39m g.add_edge(\u001b[33m\"\u001b[39m\u001b[33mC\u001b[39m\u001b[33m\"\u001b[39m, \u001b[33m\"\u001b[39m\u001b[33mB\u001b[39m\u001b[33m\"\u001b[39m, \u001b[32m2\u001b[39m)\n",
      "\u001b[31mTypeError\u001b[39m: Graph.add_edge() missing 1 required positional argument: 'dest'"
     ]
    }
   ],
   "source": [
    "import heapq\n",
    "\n",
    "class Graph(Graph):  # Extending the existing Graph class\n",
    "    def dijkstra(self, start_vertex):\n",
    "        # Initialize distances with infinity and set the distance to the start vertex as 0\n",
    "        distances = {vertex: float('infinity') for vertex in self.adj_list}\n",
    "        distances[start_vertex] = 0\n",
    "\n",
    "        # Priority queue to store vertices along with their current distances\n",
    "        priority_queue = [(0, start_vertex)]  # (distance, vertex)\n",
    "\n",
    "        while priority_queue:\n",
    "            current_distance, current_vertex = heapq.heappop(priority_queue)\n",
    "\n",
    "            # If the popped vertex has a greater distance than the current known distance, skip it\n",
    "            if current_distance > distances[current_vertex]:\n",
    "                continue\n",
    "\n",
    "            # Explore neighbors\n",
    "            for neighbor, weight in self.adj_list[current_vertex]:\n",
    "                distance = current_distance + weight\n",
    "\n",
    "                # If a shorter path to the neighbor is found\n",
    "                if distance < distances[neighbor]:\n",
    "                    distances[neighbor] = distance\n",
    "                    heapq.heappush(priority_queue, (distance, neighbor))\n",
    "\n",
    "        return distances\n",
    "\n",
    "# Example usage\n",
    "g = Graph(directed=True)\n",
    "g.add_vertex(\"A\")\n",
    "g.add_vertex(\"B\")\n",
    "g.add_vertex(\"C\")\n",
    "g.add_vertex(\"D\")\n",
    "g.add_edge(\"A)\n",
    "g.add_edge(\"A\", \"C\", 1)\n",
    "g.add_edge(\"C\", \"B\", 2)\n",
    "g.add_edge(\"B\", \"D\", 1)\n",
    "\n",
    "# Update adjacency list to include weights\n",
    "g.adj_list = {\n",
    "    \"A\": [(\"B\", 4), (\"C\", 1)],\n",
    "    \"B\": [(\"D\", 1)],\n",
    "    \"C\": [(\"B\", 2)],\n",
    "    \"D\": []\n",
    "}\n",
    "\n",
    "print(g.dijkstra(\"A\"))  # Expected Output: {'A': 0, 'B': 3, 'C': 1, 'D': 4}"
   ]
  },
  {
   "cell_type": "code",
   "execution_count": null,
   "id": "c3cb026d",
   "metadata": {},
   "outputs": [],
   "source": []
  }
 ],
 "metadata": {
  "kernelspec": {
   "display_name": "venv",
   "language": "python",
   "name": "python3"
  },
  "language_info": {
   "codemirror_mode": {
    "name": "ipython",
    "version": 3
   },
   "file_extension": ".py",
   "mimetype": "text/x-python",
   "name": "python",
   "nbconvert_exporter": "python",
   "pygments_lexer": "ipython3",
   "version": "3.12.2"
  }
 },
 "nbformat": 4,
 "nbformat_minor": 5
}
