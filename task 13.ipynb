{
 "cells": [
  {
   "cell_type": "markdown",
   "id": "22d5abd5-82fa-40ea-af73-c1382ad1163b",
   "metadata": {},
   "source": [
    "# task 1:"
   ]
  },
  {
   "cell_type": "code",
   "execution_count": 9,
   "id": "b6a8b825-b6a9-4f2e-9e23-11241a517d62",
   "metadata": {},
   "outputs": [
    {
     "name": "stdout",
     "output_type": "stream",
     "text": [
      "Test Case 1 Output: [(1, 3), (6, 8), (8, 11)]\n",
      "Test Case 2 Output: [(1, 4)]\n",
      "Test Case 3 Output: [(1, 2), (3, 4), (5, 6)]\n",
      "Test Case 4 Output: [(1, 2), (3, 4), (5, 7), (8, 9)]\n"
     ]
    }
   ],
   "source": [
    "def activity_selection(activities):\n",
    "    sorted_activities = sorted(activities, key=lambda x: x[1])\n",
    "    selected = []\n",
    "    last_end_time = 0\n",
    "    for start, end in sorted_activities:\n",
    "        if start >= last_end_time:\n",
    "            selected.append((start, end))\n",
    "            last_end_time = end\n",
    "\n",
    "    return selected\n",
    "activities = [(1, 3), (2, 5), (3, 9), (6, 8), (8, 11)]\n",
    "print(\"Test Case 1 Output:\", activity_selection(activities))\n",
    "activities = [(1, 4), (2, 5), (3, 6)]\n",
    "print(\"Test Case 2 Output:\", activity_selection(activities))\n",
    "activities = [(1, 2), (3, 4), (5, 6)]\n",
    "print(\"Test Case 3 Output:\", activity_selection(activities))\n",
    "activities = [(5, 9), (1, 2), (3, 4), (0, 6), (5, 7), (8, 9)]\n",
    "print(\"Test Case 4 Output:\", activity_selection(activities))\n"
   ]
  },
  {
   "cell_type": "markdown",
   "id": "460c018f-ede4-4c25-9c8d-8bde8d2c7397",
   "metadata": {},
   "source": [
    "# task 2:"
   ]
  },
  {
   "cell_type": "code",
   "execution_count": 11,
   "id": "d50be18a-157b-4715-89b3-42103850f2e8",
   "metadata": {},
   "outputs": [],
   "source": [
    "import heapq\n",
    "from collections import defaultdict, Counter\n",
    "\n",
    "class Node:\n",
    "    def __init__(self, char=None, freq=0):\n",
    "        self.char = char\n",
    "        self.freq = freq\n",
    "        self.left = None\n",
    "        self.right = None\n",
    "    \n",
    "    def __lt__(self, other):\n",
    "        return self.freq < other.freq\n",
    "\n",
    "def build_huffman_tree(frequency):\n",
    "    heap = [Node(char, freq) for char, freq in frequency.items()]\n",
    "    heapq.heapify(heap)\n",
    "\n",
    "    while len(heap) > 1:\n",
    "        left = heapq.heappop(heap)\n",
    "        right = heapq.heappop(heap)\n",
    "\n",
    "        merged = Node(freq=left.freq + right.freq)\n",
    "        merged.left = left\n",
    "        merged.right = right\n",
    "\n",
    "        heapq.heappush(heap, merged)\n",
    "\n",
    "    return heap[0]  \n",
    "\n",
    "def generate_codes(root, current_code=\"\", codes={}):\n",
    "    if root is None:\n",
    "        return\n",
    "\n",
    "    if root.char is not None:\n",
    "        codes[root.char] = current_code\n",
    "\n",
    "    generate_codes(root.left, current_code + \"0\", codes)\n",
    "    generate_codes(root.right, current_code + \"1\", codes)\n",
    "\n",
    "    return codes\n",
    "\n",
    "def huffman_encoding(text):\n",
    "    if not text:\n",
    "        return {}, \"\"\n",
    "\n",
    "    frequency = Counter(text)\n",
    "\n",
    "    root = build_huffman_tree(frequency)\n",
    "\n",
    "    codes = generate_codes(root)\n",
    "\n",
    "    encoded_text = ''.join(codes[char] for char in text)\n",
    "\n",
    "    return codes, encoded_text\n",
    "\n",
    "def huffman_compression_report(text):\n",
    "    codes, encoded_text = huffman_encoding(text)\n",
    "\n",
    "    original_bits = len(text) * 8\n",
    "    compressed_bits = len(encoded_text)\n",
    "    compression_ratio = compressed_bits / original_bits if original_bits > 0 else 0\n",
    "\n",
    "    print(\"Original Size:\", original_bits, \"bits\")\n",
    "    print(\"Compressed Size:\", compressed_bits, \"bits\")\n",
    "    print(\"Compression Ratio:\", round(compression_ratio, 2))\n",
    "    print(\"Huffman Codes:\", codes)\n",
    "    print(\"Encoded Text:\", encoded_text)\n",
    "\n",
    "    return codes, encoded_text\n"
   ]
  },
  {
   "cell_type": "code",
   "execution_count": 13,
   "id": "26fb9e9e-f62d-4203-99a8-0b1cbc67b63a",
   "metadata": {},
   "outputs": [
    {
     "name": "stdout",
     "output_type": "stream",
     "text": [
      "Original Size: 96 bits\n",
      "Compressed Size: 37 bits\n",
      "Compression Ratio: 0.39\n",
      "Huffman Codes: {'l': '00', 'e': '01', 'y': '100', 'r': '1010', 'g': '1011', 'd': '1100', ' ': '1101', 'h': '1110', 'o': '1111'}\n",
      "Encoded Text: 1110010000111111011011101001011100100\n"
     ]
    }
   ],
   "source": [
    "text = \"hello greedy\"\n",
    "codes, encoded = huffman_compression_report(text)\n"
   ]
  },
  {
   "cell_type": "code",
   "execution_count": 15,
   "id": "bae83668-aa6a-4eca-906b-e08758817b2b",
   "metadata": {},
   "outputs": [
    {
     "name": "stdout",
     "output_type": "stream",
     "text": [
      "MST: [(2, 3, 1), (3, 4, 2), (1, 3, 3)]\n"
     ]
    }
   ],
   "source": [
    "class DisjointSet:\n",
    "    def __init__(self, n):\n",
    "        self.parent = list(range(n + 1))  \n",
    "        self.rank = [0] * (n + 1)\n",
    "\n",
    "    def find(self, u):\n",
    "        if self.parent[u] != u:\n",
    "            self.parent[u] = self.find(self.parent[u])  \n",
    "        return self.parent[u]\n",
    "\n",
    "    def union(self, u, v):\n",
    "        root_u = self.find(u)\n",
    "        root_v = self.find(v)\n",
    "\n",
    "        if root_u == root_v:\n",
    "            return False  \n",
    "        # Union by rank\n",
    "        if self.rank[root_u] < self.rank[root_v]:\n",
    "            self.parent[root_u] = root_v\n",
    "        elif self.rank[root_u] > self.rank[root_v]:\n",
    "            self.parent[root_v] = root_u\n",
    "        else:\n",
    "            self.parent[root_v] = root_u\n",
    "            self.rank[root_u] += 1\n",
    "\n",
    "        return True\n",
    "\n",
    "def kruskal(edges, n_vertices):\n",
    "    \n",
    "    edges.sort(key=lambda x: x[2])\n",
    "    \n",
    "    ds = DisjointSet(n_vertices)\n",
    "    mst = []\n",
    "\n",
    "    for u, v, weight in edges:\n",
    "        if ds.union(u, v):\n",
    "            mst.append((u, v, weight))\n",
    "\n",
    "    return mst\n",
    "edges = [(1, 2, 4), (2, 3, 1), (1, 3, 3), (3, 4, 2)]\n",
    "n = 4\n",
    "mst = kruskal(edges, n)\n",
    "print(\"MST:\", mst)\n",
    "\n"
   ]
  },
  {
   "cell_type": "code",
   "execution_count": null,
   "id": "e77d331d-9a71-4b97-900b-99d6be919552",
   "metadata": {},
   "outputs": [],
   "source": []
  }
 ],
 "metadata": {
  "kernelspec": {
   "display_name": "Python [conda env:base] *",
   "language": "python",
   "name": "conda-base-py"
  },
  "language_info": {
   "codemirror_mode": {
    "name": "ipython",
    "version": 3
   },
   "file_extension": ".py",
   "mimetype": "text/x-python",
   "name": "python",
   "nbconvert_exporter": "python",
   "pygments_lexer": "ipython3",
   "version": "3.12.7"
  }
 },
 "nbformat": 4,
 "nbformat_minor": 5
}
