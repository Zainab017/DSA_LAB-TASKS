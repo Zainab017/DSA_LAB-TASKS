{
 "cells": [
  {
   "cell_type": "code",
   "execution_count": 2,
   "id": "9d555806-16bf-4270-8e11-70978a8b1054",
   "metadata": {},
   "outputs": [],
   "source": [
    "#TASK 1:\n",
    "#top-down\n",
    "def fib_memoization(n, memo={}):\n",
    "    if n in memo:\n",
    "        return memo[n]\n",
    "    if n <= 1:\n",
    "        return n\n",
    "    memo[n] = fib_memoization(n - 1, memo) + fib_memoization(n - 2, memo)\n",
    "    return memo[n]\n"
   ]
  },
  {
   "cell_type": "code",
   "execution_count": 4,
   "id": "58f16fe6-7728-4457-9d90-e13ed2aa1b3b",
   "metadata": {},
   "outputs": [],
   "source": [
    "#bottom-up\n",
    "def fib_tabulation(n):\n",
    "    if n <= 1:\n",
    "        return n\n",
    "    dp = [0] * (n + 1)\n",
    "    dp[1] = 1\n",
    "\n",
    "    for i in range(2, n + 1):\n",
    "        dp[i] = dp[i - 1] + dp[i - 2]\n",
    "\n",
    "    return dp[n]\n"
   ]
  },
  {
   "cell_type": "code",
   "execution_count": 6,
   "id": "33cb41df-b40e-45b3-9e4b-5cb936376ea8",
   "metadata": {},
   "outputs": [
    {
     "name": "stdout",
     "output_type": "stream",
     "text": [
      "55\n",
      "55\n"
     ]
    }
   ],
   "source": [
    "print(fib_memoization(10))  \n",
    "print(fib_tabulation(10))   \n"
   ]
  },
  {
   "cell_type": "code",
   "execution_count": 8,
   "id": "48e922b3-c1d0-45bf-a42e-6b883993feec",
   "metadata": {},
   "outputs": [],
   "source": [
    "#TASK 2:\n",
    "#LCS with Memoization (Recursive + Caching)\n",
    "def lcs_memo(s1, s2):\n",
    "    memo = {}\n",
    "\n",
    "    def dp(i, j):\n",
    "        if i == len(s1) or j == len(s2):\n",
    "            return \"\"\n",
    "        if (i, j) in memo:\n",
    "            return memo[(i, j)]\n",
    "\n",
    "        if s1[i] == s2[j]:\n",
    "            memo[(i, j)] = s1[i] + dp(i + 1, j + 1)\n",
    "        else:\n",
    "            subseq1 = dp(i + 1, j)\n",
    "            subseq2 = dp(i, j + 1)\n",
    "            memo[(i, j)] = subseq1 if len(subseq1) > len(subseq2) else subseq2\n",
    "\n",
    "        return memo[(i, j)]\n",
    "\n",
    "    return dp(0, 0)\n",
    "#LCS with Tabulation (Bottom-Up 2D DP)\n",
    "def lcs_tabulation(s1, s2):\n",
    "    m, n = len(s1), len(s2)\n",
    "    dp = [[\"\"] * (n + 1) for _ in range(m + 1)]\n",
    "\n",
    "    for i in range(m - 1, -1, -1):\n",
    "        for j in range(n - 1, -1, -1):\n",
    "            if s1[i] == s2[j]:\n",
    "                dp[i][j] = s1[i] + dp[i + 1][j + 1]\n",
    "            else:\n",
    "                dp[i][j] = max(dp[i + 1][j], dp[i][j + 1], key=len)\n",
    "\n",
    "    return dp[0][0]\n",
    "\n",
    "\n"
   ]
  },
  {
   "cell_type": "code",
   "execution_count": 10,
   "id": "5881d8d6-e10a-4d49-8f8e-5b2041b3bee0",
   "metadata": {},
   "outputs": [
    {
     "name": "stdout",
     "output_type": "stream",
     "text": [
      "GTAB\n",
      "GTAB\n"
     ]
    }
   ],
   "source": [
    "print(lcs_memo(\"AGGTAB\", \"GXTXAYB\"))     \n",
    "print(lcs_tabulation(\"AGGTAB\", \"GXTXAYB\"))  \n"
   ]
  },
  {
   "cell_type": "code",
   "execution_count": 14,
   "id": "61a7289a-e654-4e76-99d0-dbc1090944d5",
   "metadata": {},
   "outputs": [],
   "source": [
    "#TASK 3\n",
    "#Python Implementation: 0/1 Knapsack (Bottom-Up DP)\n",
    "def knapsack(weights, values, capacity):\n",
    "    n = len(weights)\n",
    "    \n",
    "    dp = [[0] * (capacity + 1) for _ in range(n + 1)]\n",
    "\n",
    "    for i in range(1, n + 1):\n",
    "        for w in range(0, capacity + 1):\n",
    "            if weights[i - 1] <= w:\n",
    "                # Max of including or excluding the item\n",
    "                dp[i][w] = max(\n",
    "                    values[i - 1] + dp[i - 1][w - weights[i - 1]],\n",
    "                    dp[i - 1][w]\n",
    "                )\n",
    "            else:\n",
    "                dp[i][w] = dp[i - 1][w]\n",
    "\n",
    "    return dp[n][capacity]\n"
   ]
  },
  {
   "cell_type": "code",
   "execution_count": 16,
   "id": "cee349af-0581-4497-814e-4ccdf2d01db6",
   "metadata": {},
   "outputs": [
    {
     "name": "stdout",
     "output_type": "stream",
     "text": [
      "7\n"
     ]
    }
   ],
   "source": [
    "weights = [2, 3, 4, 5]\n",
    "values = [3, 4, 5, 6]\n",
    "capacity = 5\n",
    "\n",
    "print(knapsack(weights, values, capacity)) \n"
   ]
  },
  {
   "cell_type": "code",
   "execution_count": null,
   "id": "1c8c3090-7da0-489e-9e7f-acb400034862",
   "metadata": {},
   "outputs": [],
   "source": []
  }
 ],
 "metadata": {
  "kernelspec": {
   "display_name": "Python [conda env:base] *",
   "language": "python",
   "name": "conda-base-py"
  },
  "language_info": {
   "codemirror_mode": {
    "name": "ipython",
    "version": 3
   },
   "file_extension": ".py",
   "mimetype": "text/x-python",
   "name": "python",
   "nbconvert_exporter": "python",
   "pygments_lexer": "ipython3",
   "version": "3.12.7"
  }
 },
 "nbformat": 4,
 "nbformat_minor": 5
}
